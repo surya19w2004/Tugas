{
 "cells": [
  {
   "cell_type": "markdown",
   "id": "6483672c",
   "metadata": {},
   "source": [
    "# 5.1 PRINT"
   ]
  },
  {
   "cell_type": "markdown",
   "id": "a64ec6cb",
   "metadata": {},
   "source": [
    "#### Print adalah perintah yang digunakan untuk mencetak kata yang ada di dalam tanda petik\n",
    "\n",
    "#### cara penggunaan: print(\"...\")"
   ]
  },
  {
   "cell_type": "code",
   "execution_count": 1,
   "id": "ee0c4bea",
   "metadata": {},
   "outputs": [
    {
     "name": "stdout",
     "output_type": "stream",
     "text": [
      "namaku adalah surya\n"
     ]
    }
   ],
   "source": [
    "print(\"namaku adalah surya\")"
   ]
  },
  {
   "cell_type": "code",
   "execution_count": 2,
   "id": "f70b3539",
   "metadata": {},
   "outputs": [
    {
     "name": "stdout",
     "output_type": "stream",
     "text": [
      "123456\n"
     ]
    }
   ],
   "source": [
    "print(\"123456\")"
   ]
  },
  {
   "cell_type": "code",
   "execution_count": 3,
   "id": "93c70931",
   "metadata": {},
   "outputs": [
    {
     "name": "stdout",
     "output_type": "stream",
     "text": [
      "600\n"
     ]
    }
   ],
   "source": [
    "panjang = 30\n",
    "lebar = 20\n",
    "print(panjang*lebar)"
   ]
  },
  {
   "cell_type": "code",
   "execution_count": 6,
   "id": "ae5c01a4",
   "metadata": {},
   "outputs": [
    {
     "name": "stdout",
     "output_type": "stream",
     "text": [
      "Matematika MIPA Universitas Udayana \n"
     ]
    }
   ],
   "source": [
    "prodi = \"Matematika \"\n",
    "Fakultas = \"MIPA \"\n",
    "Universitas = \"Universitas Udayana \"\n",
    "print(prodi + Fakultas + Universitas)"
   ]
  },
  {
   "cell_type": "markdown",
   "id": "dfbd4310",
   "metadata": {},
   "source": [
    " "
   ]
  },
  {
   "cell_type": "markdown",
   "id": "c77ad2a0",
   "metadata": {},
   "source": [
    "# 5.2 INPUT"
   ]
  },
  {
   "cell_type": "markdown",
   "id": "188c222a",
   "metadata": {},
   "source": [
    "#### Digunakan untuk meminta informasi dari pengguna (yang menjalankan program)\n",
    "#### cara penggunaan: input(\"...\")"
   ]
  },
  {
   "cell_type": "code",
   "execution_count": 8,
   "id": "4e722742",
   "metadata": {},
   "outputs": [
    {
     "name": "stdout",
     "output_type": "stream",
     "text": [
      "siapakah nama anda? surya\n",
      "Hallo surya salam kenal\n"
     ]
    }
   ],
   "source": [
    "nama = input(\"siapakah nama anda? \")\n",
    "print(\"Hallo \" + nama + \" salam kenal\" )"
   ]
  },
  {
   "cell_type": "markdown",
   "id": "77cf718c",
   "metadata": {},
   "source": [
    " "
   ]
  },
  {
   "cell_type": "markdown",
   "id": "112f6520",
   "metadata": {},
   "source": [
    "# 5.3 TIPE DATA"
   ]
  },
  {
   "cell_type": "markdown",
   "id": "e28247ad",
   "metadata": {},
   "source": [
    "#### int = bilangan bulat\n",
    "#### float = bilangan desimal\n",
    "#### str = huruf\n",
    "#### bool = True False\n",
    "\n",
    "#### cara mengetahui tipe data: type(variabel)"
   ]
  },
  {
   "cell_type": "code",
   "execution_count": 11,
   "id": "92d18f1f",
   "metadata": {},
   "outputs": [
    {
     "name": "stdout",
     "output_type": "stream",
     "text": [
      "panjang alas segitiga adalah 6\n",
      "tinggi segitiga adalah 5\n",
      "luas segiitiga adalah 30.0\n"
     ]
    }
   ],
   "source": [
    "alas= input(\"panjang alas segitiga adalah \")\n",
    "tinggi = input(\"tinggi segitiga adalah \")\n",
    "luas = float(alas)* float(tinggi)\n",
    "print(\"luas segiitiga adalah \" + str(luas))"
   ]
  },
  {
   "cell_type": "markdown",
   "id": "b29f3895",
   "metadata": {},
   "source": [
    " "
   ]
  },
  {
   "cell_type": "markdown",
   "id": "0f207d0a",
   "metadata": {},
   "source": [
    "# 5.4 FORMATTED STRING"
   ]
  },
  {
   "cell_type": "markdown",
   "id": "e4aa5076",
   "metadata": {},
   "source": [
    "#### Untuk mempermudah penulisan nilai variabel yang ingin dicetak pada perintah print\n",
    "#### penulisan:print(f\"{variabel}) "
   ]
  },
  {
   "cell_type": "code",
   "execution_count": 13,
   "id": "0db50b07",
   "metadata": {},
   "outputs": [
    {
     "name": "stdout",
     "output_type": "stream",
     "text": [
      "surya\n"
     ]
    }
   ],
   "source": [
    "nama = \"surya\"\n",
    "print(f\"{nama}\")"
   ]
  },
  {
   "cell_type": "markdown",
   "id": "f1502677",
   "metadata": {},
   "source": [
    " "
   ]
  },
  {
   "cell_type": "markdown",
   "id": "190edaf2",
   "metadata": {},
   "source": [
    "# 5.5 STRINGS INDEX"
   ]
  },
  {
   "cell_type": "markdown",
   "id": "44a11c6d",
   "metadata": {},
   "source": [
    "#### Variabel string dapat diurutkan dengn huruf yang dimulai dengan 0.\n",
    "#### uniknya di phyton huruf terakhir adalah -1, 2 dari terakhir -2 dan seterusnya\n",
    "#### penggunaan: print(variabel[urutan huruf:urutan huruf])"
   ]
  },
  {
   "cell_type": "code",
   "execution_count": 15,
   "id": "111a3d88",
   "metadata": {},
   "outputs": [
    {
     "name": "stdout",
     "output_type": "stream",
     "text": [
      "I GEDE SURYA WIRAWA\n",
      "DE S\n",
      " SURYA \n"
     ]
    }
   ],
   "source": [
    "nama = \"I GEDE SURYA WIRAWAN\"\n",
    "\n",
    "print(nama[0:-1])\n",
    "print(nama[4:8])\n",
    "print(nama[6:-7])"
   ]
  },
  {
   "cell_type": "markdown",
   "id": "20679e9c",
   "metadata": {},
   "source": [
    "  "
   ]
  },
  {
   "cell_type": "markdown",
   "id": "cb93c437",
   "metadata": {},
   "source": [
    "# 5.6 STRINGS METHOD"
   ]
  },
  {
   "cell_type": "markdown",
   "id": "7d842ff8",
   "metadata": {},
   "source": [
    "#### Beberapa methoda yang digunakan pada variabel berjenis string\n",
    "#### variabel.upper()                                 : membuat huruf besar semua\n",
    "#### variabel.lower()                                 : membuat hutruf kecil semua\n",
    "#### variabel.find(item)                              : melihat dimana letak huruf pertama dari item (dimulai dari 0)\n",
    "#### variabel replace('item sebelum , item sesuadah') : mengganti kata dalam variabel\n",
    "#### print('item' in variabel)                        : mengecek apakah benar item ada di variabel (outout True or False)"
   ]
  },
  {
   "cell_type": "code",
   "execution_count": 3,
   "id": "03d2203c",
   "metadata": {},
   "outputs": [
    {
     "data": {
      "text/plain": [
       "'I GEDE SURYA WIRAWAN'"
      ]
     },
     "execution_count": 3,
     "metadata": {},
     "output_type": "execute_result"
    }
   ],
   "source": [
    "nama= \"I Gede Surya Wirawan\"\n",
    "\n",
    "nama.upper()\n"
   ]
  },
  {
   "cell_type": "code",
   "execution_count": 4,
   "id": "35fde463",
   "metadata": {},
   "outputs": [
    {
     "data": {
      "text/plain": [
       "'i gede surya wirawan'"
      ]
     },
     "execution_count": 4,
     "metadata": {},
     "output_type": "execute_result"
    }
   ],
   "source": [
    "nama.lower()"
   ]
  },
  {
   "cell_type": "code",
   "execution_count": 7,
   "id": "5d51233b",
   "metadata": {},
   "outputs": [
    {
     "data": {
      "text/plain": [
       "7"
      ]
     },
     "execution_count": 7,
     "metadata": {},
     "output_type": "execute_result"
    }
   ],
   "source": [
    "nama.find('Surya')"
   ]
  },
  {
   "cell_type": "code",
   "execution_count": 8,
   "id": "e0a85cb5",
   "metadata": {},
   "outputs": [
    {
     "data": {
      "text/plain": [
       "13"
      ]
     },
     "execution_count": 8,
     "metadata": {},
     "output_type": "execute_result"
    }
   ],
   "source": [
    "nama.find('Wirawan')"
   ]
  },
  {
   "cell_type": "code",
   "execution_count": 13,
   "id": "2fef743a",
   "metadata": {},
   "outputs": [
    {
     "data": {
      "text/plain": [
       "'I Wayan Surya Wirawan'"
      ]
     },
     "execution_count": 13,
     "metadata": {},
     "output_type": "execute_result"
    }
   ],
   "source": [
    "nama.replace('Gede' , 'Wayan')"
   ]
  },
  {
   "cell_type": "code",
   "execution_count": 17,
   "id": "b0c6bb90",
   "metadata": {},
   "outputs": [
    {
     "name": "stdout",
     "output_type": "stream",
     "text": [
      "True\n"
     ]
    }
   ],
   "source": [
    "print('Surya' in nama)"
   ]
  },
  {
   "cell_type": "code",
   "execution_count": 18,
   "id": "1a454e4b",
   "metadata": {},
   "outputs": [
    {
     "name": "stdout",
     "output_type": "stream",
     "text": [
      "False\n",
      "False\n"
     ]
    }
   ],
   "source": [
    "print('surya' in nama)\n",
    "print('SURYA'in nama)"
   ]
  },
  {
   "cell_type": "markdown",
   "id": "b7511579",
   "metadata": {},
   "source": [
    "# 5.7 OPERASI MATEMATIKA DI PHYTON"
   ]
  },
  {
   "cell_type": "markdown",
   "id": "694a529d",
   "metadata": {},
   "source": [
    "#### Penjumlahan  : (x+y)\n",
    "#### Pengurangan  : (x-y)\n",
    "#### perkalian    : (x*y)\n",
    "#### Pembagian    : (x/y)\n",
    "#### pembulatan pembagian : (x//y)\n",
    "#### modulo               : (x%y)\n",
    "#### pemangkatan          : (x**y)\n",
    "#### augmanted operator   : contoh : x+=1 yang artinya x=x+1"
   ]
  },
  {
   "cell_type": "code",
   "execution_count": 19,
   "id": "540eaa3f",
   "metadata": {},
   "outputs": [
    {
     "name": "stdout",
     "output_type": "stream",
     "text": [
      "14\n",
      "6\n",
      "48\n",
      "3.0\n",
      "2\n",
      "4\n",
      "5\n",
      "2\n"
     ]
    }
   ],
   "source": [
    "print(7+7)\n",
    "print(9-3)\n",
    "print(8*6)\n",
    "print(6/2)\n",
    "print(9//4)\n",
    "print(9%5)\n",
    "\n",
    "x=5\n",
    "print(x)\n",
    "x-=3\n",
    "print(x)"
   ]
  },
  {
   "cell_type": "markdown",
   "id": "1e12f25a",
   "metadata": {},
   "source": [
    "# 5.8 OPERATOR PERBANDINGAN"
   ]
  },
  {
   "cell_type": "markdown",
   "id": "0bf98c53",
   "metadata": {},
   "source": [
    "#### Output berupa True or False\n",
    "\n",
    "#### lebih dari  : x = a>b\n",
    "#### kurang dari : x = a<b\n",
    "#### lebih dari sama dengan : x = a>=b\n",
    "#### kurang dari sama dengan : x= a<=b\n",
    "#### sama dengan : x = a==b\n",
    "#### tidak sama dengan : x = a!=b"
   ]
  },
  {
   "cell_type": "code",
   "execution_count": 22,
   "id": "6320c7da",
   "metadata": {},
   "outputs": [
    {
     "name": "stdout",
     "output_type": "stream",
     "text": [
      "True\n",
      "False\n"
     ]
    }
   ],
   "source": [
    "x = 5>4\n",
    "print(x)\n",
    "y = 7>10\n",
    "print(y)"
   ]
  },
  {
   "cell_type": "code",
   "execution_count": 23,
   "id": "d7c33999",
   "metadata": {},
   "outputs": [
    {
     "name": "stdout",
     "output_type": "stream",
     "text": [
      "False\n",
      "True\n"
     ]
    }
   ],
   "source": [
    "x = 5<4\n",
    "print(x)\n",
    "y = 7<10\n",
    "print(y)"
   ]
  },
  {
   "cell_type": "code",
   "execution_count": 25,
   "id": "aff3c424",
   "metadata": {},
   "outputs": [
    {
     "name": "stdout",
     "output_type": "stream",
     "text": [
      "True\n",
      "True\n",
      "False\n"
     ]
    }
   ],
   "source": [
    "x = 5>=4\n",
    "print(x)\n",
    "y = 10>=10\n",
    "print(y)\n",
    "z = 7>=10\n",
    "print(z)"
   ]
  },
  {
   "cell_type": "code",
   "execution_count": 32,
   "id": "e32714b9",
   "metadata": {},
   "outputs": [
    {
     "name": "stdout",
     "output_type": "stream",
     "text": [
      "False\n",
      "True\n",
      "True\n"
     ]
    }
   ],
   "source": [
    "x = 5<=4\n",
    "print(x)\n",
    "y = 10<=10\n",
    "print(y)\n",
    "z = 7<=10\n",
    "print(z)"
   ]
  },
  {
   "cell_type": "code",
   "execution_count": 33,
   "id": "9fcb5628",
   "metadata": {},
   "outputs": [
    {
     "name": "stdout",
     "output_type": "stream",
     "text": [
      "False\n",
      "True\n",
      "False\n"
     ]
    }
   ],
   "source": [
    "x = 5==4\n",
    "print(x)\n",
    "y = 10==10\n",
    "print(y)\n",
    "z = 7==10\n",
    "print(z)"
   ]
  },
  {
   "cell_type": "code",
   "execution_count": 34,
   "id": "84e72c5f",
   "metadata": {},
   "outputs": [
    {
     "name": "stdout",
     "output_type": "stream",
     "text": [
      "True\n",
      "False\n",
      "True\n"
     ]
    }
   ],
   "source": [
    "x = 5!=4\n",
    "print(x)\n",
    "y = 10!=10\n",
    "print(y)\n",
    "z = 7!=10\n",
    "print(z)"
   ]
  },
  {
   "cell_type": "markdown",
   "id": "b4f076b7",
   "metadata": {},
   "source": [
    "# 5.9 OPERATOR LOGIKA"
   ]
  },
  {
   "cell_type": "markdown",
   "id": "1cd1eade",
   "metadata": {},
   "source": [
    "#### Operator logika antara lain: and, or dan not. outputnya berupa True or False"
   ]
  },
  {
   "cell_type": "code",
   "execution_count": 29,
   "id": "4096bc1a",
   "metadata": {},
   "outputs": [
    {
     "name": "stdout",
     "output_type": "stream",
     "text": [
      "True\n",
      "False\n",
      "False\n"
     ]
    }
   ],
   "source": [
    "Matkul = 7\n",
    "SKS = 19\n",
    "print(Matkul>3 and SKS>17)\n",
    "print(Matkul<3 and SKS>17)\n",
    "print(Matkul<3 and SKS<17)"
   ]
  },
  {
   "cell_type": "code",
   "execution_count": 30,
   "id": "695de8b3",
   "metadata": {},
   "outputs": [
    {
     "name": "stdout",
     "output_type": "stream",
     "text": [
      "True\n",
      "True\n",
      "False\n"
     ]
    }
   ],
   "source": [
    "Matkul = 7\n",
    "SKS = 19\n",
    "print(Matkul>3 or SKS>17)\n",
    "print(Matkul<3 or SKS>17)\n",
    "print(Matkul<3 or SKS<17)"
   ]
  },
  {
   "cell_type": "code",
   "execution_count": 31,
   "id": "7009d268",
   "metadata": {},
   "outputs": [
    {
     "name": "stdout",
     "output_type": "stream",
     "text": [
      "False\n",
      "True\n",
      "True\n"
     ]
    }
   ],
   "source": [
    "Matkul = 7\n",
    "SKS = 19\n",
    "print(not(Matkul>3 and SKS>17))\n",
    "print(not(Matkul<3 and SKS>17))\n",
    "print(not(Matkul<3 and SKS<17))"
   ]
  },
  {
   "cell_type": "markdown",
   "id": "59fb75a2",
   "metadata": {},
   "source": [
    "# 5.10 OPERASI if & else\n"
   ]
  },
  {
   "cell_type": "markdown",
   "id": "17805516",
   "metadata": {},
   "source": [
    "#### Operator if akan dijalankan bila variabel nilainya True, sedangkan jika False tidak akan dijalankan\n",
    "#### Operator else dijalankan ketika variabel bernilai False\n",
    "#### ketika menggunakan else kemudian diiikuti if dapat memakai elif"
   ]
  },
  {
   "cell_type": "code",
   "execution_count": 49,
   "id": "994e38b5",
   "metadata": {},
   "outputs": [
    {
     "name": "stdout",
     "output_type": "stream",
     "text": [
      "Berapa jam anda tidur sehari? 6\n",
      "waktu tidur anda kurang, lebih banyakalah beristirahat\n"
     ]
    }
   ],
   "source": [
    "waktu = float(input(\"Berapa jam anda tidur sehari? \"))\n",
    "if waktu<=6:\n",
    "    print(\"waktu tidur anda kurang, lebih banyakalah beristirahat\")\n",
    "elif waktu>6 and waktu<=9:\n",
    "    print(\"anda sudah tidur dengan cukup\")\n",
    "elif waktu>9 and waktu<=24:\n",
    "    print(\"anda terlalu banyak tidur\")\n",
    "else:\n",
    "    print(\"masukkan data dengan benar\")"
   ]
  },
  {
   "cell_type": "markdown",
   "id": "3fab61d2",
   "metadata": {},
   "source": [
    "## \n",
    "## Latihan\n",
    "#### Buatlah program yang merubah tinggi badan seseorang dari cm ke inci atau sebaliknya"
   ]
  },
  {
   "cell_type": "markdown",
   "id": "5636cc64",
   "metadata": {},
   "source": [
    "#### dari cm ke inci"
   ]
  },
  {
   "cell_type": "code",
   "execution_count": 1,
   "id": "d8bfd3b9",
   "metadata": {},
   "outputs": [
    {
     "name": "stdout",
     "output_type": "stream",
     "text": [
      "Tinggi badan anda (dalam satuan cm) adalah 155\n",
      "tinggi badan anda adalah 61.0235 inci\n"
     ]
    }
   ],
   "source": [
    "tinggi = int(input(\"Tinggi badan anda (dalam satuan cm) adalah \"))\n",
    "TINGGI = float(tinggi*0.3937)\n",
    "print(\"tinggi badan anda adalah \" + str(TINGGI) + \" inci\")"
   ]
  },
  {
   "cell_type": "markdown",
   "id": "1773e5a6",
   "metadata": {},
   "source": [
    "#### dari inci ke cm"
   ]
  },
  {
   "cell_type": "code",
   "execution_count": 2,
   "id": "6bb85f6f",
   "metadata": {},
   "outputs": [
    {
     "name": "stdout",
     "output_type": "stream",
     "text": [
      "Tinggi badan anda (dalam satuan inci) adalah 50\n",
      "tinggi badan anda adalah 127.0 cm\n"
     ]
    }
   ],
   "source": [
    "tinggi = float(input(\"Tinggi badan anda (dalam satuan inci) adalah \"))\n",
    "TINGGI = float(tinggi*2.54)\n",
    "print(\"tinggi badan anda adalah \" + str(TINGGI) + \" cm\")"
   ]
  },
  {
   "cell_type": "markdown",
   "id": "ff43407a",
   "metadata": {},
   "source": [
    "# 5.11 WHILE LOOP\n",
    "#### While loop selalu dieksekusi ketika variabel bernilai True dan berhenti ketika False"
   ]
  },
  {
   "cell_type": "code",
   "execution_count": 1,
   "id": "10563e6b",
   "metadata": {},
   "outputs": [
    {
     "name": "stdout",
     "output_type": "stream",
     "text": [
      "angka 0 lebih kecil dari 10\n",
      "angka 1 lebih kecil dari 10\n",
      "angka 2 lebih kecil dari 10\n",
      "angka 3 lebih kecil dari 10\n",
      "angka 4 lebih kecil dari 10\n",
      "angka 5 lebih kecil dari 10\n",
      "angka 6 lebih kecil dari 10\n",
      "angka 7 lebih kecil dari 10\n",
      "angka 8 lebih kecil dari 10\n",
      "angka 9 lebih kecil dari 10\n"
     ]
    }
   ],
   "source": [
    "a=0\n",
    "while a<10:\n",
    "    print(\"angka \" + str(a) + \" lebih kecil dari 10\")\n",
    "    a+=1"
   ]
  },
  {
   "cell_type": "code",
   "execution_count": 2,
   "id": "c787f571",
   "metadata": {},
   "outputs": [
    {
     "name": "stdout",
     "output_type": "stream",
     "text": [
      "*\n",
      "**\n",
      "***\n",
      "****\n",
      "*****\n",
      "******\n",
      "*******\n",
      "********\n",
      "*********\n"
     ]
    }
   ],
   "source": [
    "a=1\n",
    "while a<10:\n",
    "    print(a*\"*\")\n",
    "    a+=1"
   ]
  },
  {
   "cell_type": "markdown",
   "id": "deb3cd87",
   "metadata": {},
   "source": [
    "# 5.12 LIST DI PHYTON\n",
    "#### Mempresentasikan objek dilalam phyton baik string maupun berupa angka"
   ]
  },
  {
   "cell_type": "code",
   "execution_count": 3,
   "id": "ff2cb5cd",
   "metadata": {},
   "outputs": [
    {
     "name": "stdout",
     "output_type": "stream",
     "text": [
      "['Messi', 'Iniesta', 'Puyol', 'Xavi']\n"
     ]
    }
   ],
   "source": [
    "pemain = ['Messi' , 'Iniesta' , 'Puyol' , 'Xavi']\n",
    "print(pemain)"
   ]
  },
  {
   "cell_type": "code",
   "execution_count": 4,
   "id": "3bfd7c7c",
   "metadata": {},
   "outputs": [
    {
     "name": "stdout",
     "output_type": "stream",
     "text": [
      "Messi\n",
      "Iniesta\n",
      "Puyol\n",
      "Xavi\n",
      "Puyol\n"
     ]
    }
   ],
   "source": [
    "print(pemain[0])\n",
    "print(pemain[1])\n",
    "print(pemain[2])\n",
    "print(pemain[3])\n",
    "print(pemain[-2])"
   ]
  },
  {
   "cell_type": "code",
   "execution_count": 5,
   "id": "121e5835",
   "metadata": {},
   "outputs": [
    {
     "name": "stdout",
     "output_type": "stream",
     "text": [
      "['Messi', 'Iniesta', 'Puyol', 'Xavi']\n",
      "['Iniesta', 'Puyol']\n"
     ]
    }
   ],
   "source": [
    "print(pemain[0:5])\n",
    "print(pemain[1:-1])"
   ]
  },
  {
   "cell_type": "code",
   "execution_count": 6,
   "id": "cdc216a3",
   "metadata": {},
   "outputs": [
    {
     "name": "stdout",
     "output_type": "stream",
     "text": [
      "['Messi', 'Iniesta', 'Busquets', 'Xavi']\n"
     ]
    }
   ],
   "source": [
    "pemain[2] = 'Busquets'\n",
    "print(pemain)"
   ]
  },
  {
   "cell_type": "markdown",
   "id": "ffe96a0c",
   "metadata": {},
   "source": [
    "# 5.13 METODA LIST\n",
    "#### Memanipulasi isi list seperti menambahkan atau menghilangkan isinya\n",
    "#### variabel.append('item') untuk menambahkan isi\n",
    "#### variabel.insert(pos,'item') untuk menambahkan di posisi yang kita inginkan\n",
    "#### variabel.remove('item) untuk menghilangkan isi\n",
    "#### len(variabel) untuk mengecek jumlah item"
   ]
  },
  {
   "cell_type": "code",
   "execution_count": 7,
   "id": "5f0eb145",
   "metadata": {},
   "outputs": [
    {
     "name": "stdout",
     "output_type": "stream",
     "text": [
      "['Messi', 'Iniesta', 'Busquets', 'Xavi', 'Neymar']\n"
     ]
    }
   ],
   "source": [
    "pemain.append('Neymar')\n",
    "print(pemain)"
   ]
  },
  {
   "cell_type": "code",
   "execution_count": 8,
   "id": "cc15c628",
   "metadata": {},
   "outputs": [
    {
     "name": "stdout",
     "output_type": "stream",
     "text": [
      "['Messi', 'Iniesta', 'Busquets', 'Xavi', 'Suarez', 'Neymar']\n"
     ]
    }
   ],
   "source": [
    "pemain.insert(4,'Suarez')\n",
    "print(pemain)"
   ]
  },
  {
   "cell_type": "code",
   "execution_count": 9,
   "id": "5b1d6da5",
   "metadata": {},
   "outputs": [
    {
     "name": "stdout",
     "output_type": "stream",
     "text": [
      "['Messi', 'Iniesta', 'Busquets', 'Xavi', 'Suarez']\n"
     ]
    }
   ],
   "source": [
    "pemain.remove('Neymar')\n",
    "print(pemain)"
   ]
  },
  {
   "cell_type": "code",
   "execution_count": 10,
   "id": "8e4f72d2",
   "metadata": {},
   "outputs": [
    {
     "name": "stdout",
     "output_type": "stream",
     "text": [
      "5\n"
     ]
    }
   ],
   "source": [
    "print(len(pemain))"
   ]
  },
  {
   "cell_type": "markdown",
   "id": "7bb606dc",
   "metadata": {},
   "source": [
    "# 5.14 FOR LOOP\n",
    "#### Digunakan untuk memanggil semua isi list"
   ]
  },
  {
   "cell_type": "code",
   "execution_count": 11,
   "id": "9a86dae1",
   "metadata": {},
   "outputs": [
    {
     "name": "stdout",
     "output_type": "stream",
     "text": [
      "Messi\n",
      "Iniesta\n",
      "Busquets\n",
      "Xavi\n",
      "Suarez\n"
     ]
    }
   ],
   "source": [
    "for Pemain in pemain:\n",
    "    print(Pemain)"
   ]
  },
  {
   "cell_type": "markdown",
   "id": "13233caf",
   "metadata": {},
   "source": [
    "# 5.15 FUNGSI RANGE\n",
    "#### membangkitkan bilangan berurutan atau berpola. dalam penggunaannya dikombinasikan dengan for"
   ]
  },
  {
   "cell_type": "code",
   "execution_count": 14,
   "id": "64aaf7f9",
   "metadata": {},
   "outputs": [
    {
     "name": "stdout",
     "output_type": "stream",
     "text": [
      "range(0, 10)\n"
     ]
    }
   ],
   "source": [
    "angka = range(10)\n",
    "print(angka)"
   ]
  },
  {
   "cell_type": "code",
   "execution_count": 15,
   "id": "d743e357",
   "metadata": {},
   "outputs": [
    {
     "name": "stdout",
     "output_type": "stream",
     "text": [
      "0\n",
      "1\n",
      "2\n",
      "3\n",
      "4\n",
      "5\n",
      "6\n",
      "7\n",
      "8\n",
      "9\n"
     ]
    }
   ],
   "source": [
    "for isi in angka:\n",
    "    print(isi)"
   ]
  },
  {
   "cell_type": "code",
   "execution_count": 20,
   "id": "20fbeacd",
   "metadata": {},
   "outputs": [
    {
     "name": "stdout",
     "output_type": "stream",
     "text": [
      "5\n",
      "6\n",
      "7\n",
      "8\n",
      "9\n"
     ]
    }
   ],
   "source": [
    "for isi in range(5,10):\n",
    "    print(isi)"
   ]
  },
  {
   "cell_type": "code",
   "execution_count": 23,
   "id": "21f98cd1",
   "metadata": {},
   "outputs": [
    {
     "name": "stdout",
     "output_type": "stream",
     "text": [
      "0\n",
      "3\n",
      "6\n",
      "9\n"
     ]
    }
   ],
   "source": [
    "for isi in range(0,10,3):\n",
    "    print(isi)"
   ]
  },
  {
   "cell_type": "markdown",
   "id": "f580bcc6",
   "metadata": {},
   "source": [
    "### Latihan\n",
    "#### 1. Buatlah program umtuk menncari nilai terbesar didalam suatu list"
   ]
  },
  {
   "cell_type": "code",
   "execution_count": 39,
   "id": "6da41dd1",
   "metadata": {},
   "outputs": [
    {
     "name": "stdout",
     "output_type": "stream",
     "text": [
      "10\n"
     ]
    }
   ],
   "source": [
    "data = [4,10,3,8]\n",
    "maks = data[0]\n",
    "for x in range(len(data)):\n",
    "    if data[x] > maks:\n",
    "        maks = data[x]\n",
    "print(maks)"
   ]
  },
  {
   "cell_type": "markdown",
   "id": "2998db98",
   "metadata": {},
   "source": [
    "#### 2. Buatlah program untuk membuat anggota list menjadi unik dengan kata lain tidak ada anggota list  yang kembar"
   ]
  },
  {
   "cell_type": "code",
   "execution_count": 44,
   "id": "fa09086e",
   "metadata": {},
   "outputs": [
    {
     "name": "stdout",
     "output_type": "stream",
     "text": [
      "[0, 1, 3, 4, 5, 7]\n"
     ]
    }
   ],
   "source": [
    "data = [0,1,3,3,4,3,4,5,7,3,5,4]\n",
    "data_unik = []\n",
    "for x in data:\n",
    "    if x not in data_unik:\n",
    "        data_unik.append(x)\n",
    "print(data_unik)"
   ]
  },
  {
   "cell_type": "markdown",
   "id": "33da5a1f",
   "metadata": {},
   "source": [
    "# 5.16 LIST 2 DIMENSI\n",
    "#### Menempatkan list dalam list"
   ]
  },
  {
   "cell_type": "code",
   "execution_count": 2,
   "id": "4aa51ea2",
   "metadata": {},
   "outputs": [
    {
     "name": "stdout",
     "output_type": "stream",
     "text": [
      "([1, 2, 3], [4, 5, 6], [7, 8, 9])\n"
     ]
    }
   ],
   "source": [
    "matrik = [1,2,3],[4,5,6],[7,8,9]\n",
    "print(matrik)"
   ]
  },
  {
   "cell_type": "code",
   "execution_count": 7,
   "id": "f8cc5351",
   "metadata": {},
   "outputs": [
    {
     "data": {
      "text/plain": [
       "[7, 8, 9]"
      ]
     },
     "execution_count": 7,
     "metadata": {},
     "output_type": "execute_result"
    }
   ],
   "source": [
    "matrik[2]"
   ]
  },
  {
   "cell_type": "code",
   "execution_count": 8,
   "id": "df39a2aa",
   "metadata": {},
   "outputs": [
    {
     "data": {
      "text/plain": [
       "4"
      ]
     },
     "execution_count": 8,
     "metadata": {},
     "output_type": "execute_result"
    }
   ],
   "source": [
    "matrik[1][0]"
   ]
  },
  {
   "cell_type": "code",
   "execution_count": 9,
   "id": "f0ffee81",
   "metadata": {},
   "outputs": [
    {
     "name": "stdout",
     "output_type": "stream",
     "text": [
      "([1, 2, 3], [4, 5, 6], [7, 10, 9])\n"
     ]
    }
   ],
   "source": [
    "matrik[2][1]=10\n",
    "print(matrik)"
   ]
  },
  {
   "cell_type": "code",
   "execution_count": 11,
   "id": "2a84cacc",
   "metadata": {},
   "outputs": [
    {
     "name": "stdout",
     "output_type": "stream",
     "text": [
      "[1, 2, 3]\n",
      "1\n",
      "2\n",
      "3\n",
      "[4, 5, 6]\n",
      "4\n",
      "5\n",
      "6\n",
      "[7, 10, 9]\n",
      "7\n",
      "10\n",
      "9\n"
     ]
    }
   ],
   "source": [
    "for baris in matrik:\n",
    "    print(baris)\n",
    "    for kolom in baris:\n",
    "        print(kolom)"
   ]
  },
  {
   "cell_type": "markdown",
   "id": "fd15b08e",
   "metadata": {},
   "source": [
    "# 5.17 TUPLES\n",
    "#### Mirip seperti list namun tidak dapat diubah isinya"
   ]
  },
  {
   "cell_type": "code",
   "execution_count": 5,
   "id": "fcf74402",
   "metadata": {},
   "outputs": [],
   "source": [
    "angka = (2,4,6,8,10,12)"
   ]
  },
  {
   "cell_type": "code",
   "execution_count": 3,
   "id": "2db3024c",
   "metadata": {},
   "outputs": [
    {
     "name": "stdout",
     "output_type": "stream",
     "text": [
      "10\n"
     ]
    }
   ],
   "source": [
    "print(angka[4])"
   ]
  },
  {
   "cell_type": "code",
   "execution_count": 4,
   "id": "05b11b42",
   "metadata": {},
   "outputs": [
    {
     "name": "stdout",
     "output_type": "stream",
     "text": [
      "(8, 10)\n"
     ]
    }
   ],
   "source": [
    "print(angka[3:5])"
   ]
  },
  {
   "cell_type": "code",
   "execution_count": 5,
   "id": "833dd65d",
   "metadata": {},
   "outputs": [
    {
     "name": "stdout",
     "output_type": "stream",
     "text": [
      "2\n",
      "4\n",
      "6\n",
      "8\n",
      "10\n",
      "12\n"
     ]
    }
   ],
   "source": [
    "for isi in angka:\n",
    "    print(isi)"
   ]
  },
  {
   "cell_type": "code",
   "execution_count": 6,
   "id": "1a497df4",
   "metadata": {},
   "outputs": [
    {
     "ename": "SyntaxError",
     "evalue": "invalid syntax (Temp/ipykernel_12876/1163626827.py, line 1)",
     "output_type": "error",
     "traceback": [
      "\u001b[1;36m  File \u001b[1;32m\"C:\\Users\\asus\\AppData\\Local\\Temp/ipykernel_12876/1163626827.py\"\u001b[1;36m, line \u001b[1;32m1\u001b[0m\n\u001b[1;33m    angka 0 = 4\u001b[0m\n\u001b[1;37m          ^\u001b[0m\n\u001b[1;31mSyntaxError\u001b[0m\u001b[1;31m:\u001b[0m invalid syntax\n"
     ]
    }
   ],
   "source": [
    "angka 0 = 4\n",
    "angka.append(14)\n",
    "angka.remove(4)"
   ]
  },
  {
   "cell_type": "markdown",
   "id": "7f7f742d",
   "metadata": {},
   "source": [
    "#### Seperti yang sudah dijelaskan sebelumnya tupples tidak bisa diubah isi datanya \n",
    "#### terdapat fungsi count dan index. count berfungsi untuk menghitung ada berapa jumlah data yang ingin diketahui. index untuk mengetahui berada di urutan berapa data tersebut berada (dimulai dari 0)"
   ]
  },
  {
   "cell_type": "code",
   "execution_count": 6,
   "id": "03562354",
   "metadata": {},
   "outputs": [
    {
     "data": {
      "text/plain": [
       "1"
      ]
     },
     "execution_count": 6,
     "metadata": {},
     "output_type": "execute_result"
    }
   ],
   "source": [
    "angka.count(2)"
   ]
  },
  {
   "cell_type": "code",
   "execution_count": 7,
   "id": "da348b19",
   "metadata": {},
   "outputs": [
    {
     "data": {
      "text/plain": [
       "1"
      ]
     },
     "execution_count": 7,
     "metadata": {},
     "output_type": "execute_result"
    }
   ],
   "source": [
    "angka.index(4)"
   ]
  },
  {
   "cell_type": "markdown",
   "id": "c43d6e36",
   "metadata": {},
   "source": [
    "# 5.18 DICTIONARIES\n",
    "#### Dictionaries digunakan jika data terikat satu sama lain"
   ]
  },
  {
   "cell_type": "code",
   "execution_count": 8,
   "id": "9d27e432",
   "metadata": {},
   "outputs": [
    {
     "name": "stdout",
     "output_type": "stream",
     "text": [
      "Lionel Messi\n"
     ]
    }
   ],
   "source": [
    "data_pemain = {\n",
    "    'Nama' : 'Lionel Messi',\n",
    "    'negara' : 'Argentina',\n",
    "    'posisi' : 'Forward'\n",
    "}\n",
    "\n",
    "print(data_pemain['Nama'])"
   ]
  },
  {
   "cell_type": "code",
   "execution_count": 9,
   "id": "c5d4b7cc",
   "metadata": {},
   "outputs": [
    {
     "name": "stdout",
     "output_type": "stream",
     "text": [
      "Argentina\n"
     ]
    }
   ],
   "source": [
    "print(data_pemain['negara'])"
   ]
  },
  {
   "cell_type": "code",
   "execution_count": 10,
   "id": "d3d10e6c",
   "metadata": {},
   "outputs": [
    {
     "name": "stdout",
     "output_type": "stream",
     "text": [
      "Forward\n"
     ]
    }
   ],
   "source": [
    "print(data_pemain['posisi'])"
   ]
  },
  {
   "cell_type": "markdown",
   "id": "b5ac5ba1",
   "metadata": {},
   "source": [
    "### Latihan\n",
    "#### Buatlah program untuk merubah nomor yang tadinya berupa angka menjadi sebutan bilangan tersebut.  Misalnya angka 0812 akan menjadi nol delapan satu dua"
   ]
  },
  {
   "cell_type": "code",
   "execution_count": 11,
   "id": "ab8845a5",
   "metadata": {},
   "outputs": [],
   "source": [
    "angka ={\n",
    "    '0' : 'nol ',\n",
    "    '1' : 'satu ',\n",
    "    '2' : 'dua ',\n",
    "    '3' : 'tiga ',\n",
    "    '4' : 'empat ',\n",
    "    '5' : 'lima ',\n",
    "    '6' : 'enam ',\n",
    "    '7' : 'tujuh ',\n",
    "    '8' : 'delapan ',\n",
    "    '9' : 'sembilan '\n",
    "}"
   ]
  },
  {
   "cell_type": "code",
   "execution_count": 13,
   "id": "92c0c22e",
   "metadata": {},
   "outputs": [
    {
     "name": "stdout",
     "output_type": "stream",
     "text": [
      "masukkan nomor HP anda 09876543212235456534565565666666\n",
      "nol sembilan delapan tujuh enam lima empat tiga dua satu dua dua tiga lima empat lima enam lima tiga empat lima enam lima lima enam lima enam enam enam enam enam enam \n"
     ]
    }
   ],
   "source": [
    "nomor_hp = input(\"masukkan nomor HP anda \")\n",
    "nomor_angka = \"\"\n",
    "for isi in nomor_hp:\n",
    "    nomor_angka += angka.get(isi) + \" \"\n",
    "print(nomor_angka)"
   ]
  },
  {
   "cell_type": "markdown",
   "id": "c160f027",
   "metadata": {},
   "source": [
    "# 5.19 FUNGSI DALAM PHYTON\n",
    "#### "
   ]
  },
  {
   "cell_type": "code",
   "execution_count": 3,
   "id": "a94466ed",
   "metadata": {},
   "outputs": [
    {
     "ename": "SyntaxError",
     "evalue": "invalid syntax (Temp/ipykernel_11892/3236554953.py, line 1)",
     "output_type": "error",
     "traceback": [
      "\u001b[1;36m  File \u001b[1;32m\"C:\\Users\\asus\\AppData\\Local\\Temp/ipykernel_11892/3236554953.py\"\u001b[1;36m, line \u001b[1;32m1\u001b[0m\n\u001b[1;33m    def full name(first_name,last_name):\u001b[0m\n\u001b[1;37m             ^\u001b[0m\n\u001b[1;31mSyntaxError\u001b[0m\u001b[1;31m:\u001b[0m invalid syntax\n"
     ]
    }
   ],
   "source": [
    "def full name(first_name,last_name):\n",
    "    print(f\"Nama lengkapnya adalah {first_name} {last_name}\")\n",
    "first_name = input(\"Nama depan anda adalah? \")\n",
    "last_name = input (\"Nama belakang anda adalah? \")\n",
    "full_name(first_name,last_name)"
   ]
  },
  {
   "cell_type": "code",
   "execution_count": null,
   "id": "3473306d",
   "metadata": {},
   "outputs": [],
   "source": []
  },
  {
   "cell_type": "code",
   "execution_count": null,
   "id": "476b5d43",
   "metadata": {},
   "outputs": [],
   "source": []
  },
  {
   "cell_type": "code",
   "execution_count": null,
   "id": "e039774b",
   "metadata": {},
   "outputs": [],
   "source": []
  },
  {
   "cell_type": "code",
   "execution_count": null,
   "id": "1e88daf3",
   "metadata": {},
   "outputs": [],
   "source": []
  },
  {
   "cell_type": "markdown",
   "id": "3088137a",
   "metadata": {},
   "source": [
    "# 5.20 NUMPY\n",
    "\n",
    "## 5.20.1 Perintah dasar numpy"
   ]
  },
  {
   "cell_type": "code",
   "execution_count": 4,
   "id": "4400ddcd",
   "metadata": {},
   "outputs": [],
   "source": [
    "import numpy as np"
   ]
  },
  {
   "cell_type": "code",
   "execution_count": 29,
   "id": "27efac5d",
   "metadata": {},
   "outputs": [
    {
     "name": "stdout",
     "output_type": "stream",
     "text": [
      "[[0. 0. 0. 0. 0. 0. 0. 0. 0. 0.]\n",
      " [0. 0. 0. 0. 0. 0. 0. 0. 0. 0.]\n",
      " [0. 0. 0. 0. 0. 0. 0. 0. 0. 0.]\n",
      " [0. 0. 0. 0. 0. 0. 0. 0. 0. 0.]\n",
      " [0. 0. 0. 0. 0. 0. 0. 0. 0. 0.]\n",
      " [0. 0. 0. 0. 0. 0. 0. 0. 0. 0.]\n",
      " [0. 0. 0. 0. 0. 0. 0. 0. 0. 0.]\n",
      " [0. 0. 0. 0. 0. 0. 0. 0. 0. 0.]\n",
      " [0. 0. 0. 0. 0. 0. 0. 0. 0. 0.]\n",
      " [0. 0. 0. 0. 0. 0. 0. 0. 0. 0.]]\n"
     ]
    }
   ],
   "source": [
    "a = np.zeros((10,10))\n",
    "print(a)\n"
   ]
  },
  {
   "cell_type": "code",
   "execution_count": 31,
   "id": "4568a06f",
   "metadata": {},
   "outputs": [
    {
     "name": "stdout",
     "output_type": "stream",
     "text": [
      "[[0. 0. 0. 0. 0. 0. 0. 0. 0. 0.]\n",
      " [0. 1. 1. 1. 1. 1. 1. 1. 1. 0.]\n",
      " [0. 1. 0. 0. 0. 0. 0. 0. 1. 0.]\n",
      " [0. 1. 0. 0. 0. 0. 0. 0. 1. 0.]\n",
      " [0. 1. 0. 0. 0. 0. 0. 0. 1. 0.]\n",
      " [0. 1. 0. 0. 0. 0. 0. 0. 1. 0.]\n",
      " [0. 1. 0. 0. 0. 0. 0. 0. 1. 0.]\n",
      " [0. 1. 0. 0. 0. 0. 0. 0. 1. 0.]\n",
      " [0. 1. 1. 1. 1. 1. 1. 1. 1. 0.]\n",
      " [0. 0. 0. 0. 0. 0. 0. 0. 0. 0.]]\n"
     ]
    }
   ],
   "source": [
    "a[1:-1,1:-1]=1\n",
    "a[2:-2,2:-2]=0\n",
    "print(a)"
   ]
  },
  {
   "cell_type": "code",
   "execution_count": 32,
   "id": "081d6be5",
   "metadata": {},
   "outputs": [
    {
     "name": "stdout",
     "output_type": "stream",
     "text": [
      "[[0. 0. 0. 0. 0. 0. 0. 0. 0. 0.]\n",
      " [0. 1. 1. 1. 1. 1. 1. 1. 1. 0.]\n",
      " [0. 1. 0. 0. 0. 0. 0. 0. 1. 0.]\n",
      " [0. 1. 0. 2. 2. 2. 2. 0. 1. 0.]\n",
      " [0. 1. 0. 2. 0. 0. 2. 0. 1. 0.]\n",
      " [0. 1. 0. 2. 0. 0. 2. 0. 1. 0.]\n",
      " [0. 1. 0. 2. 2. 2. 2. 0. 1. 0.]\n",
      " [0. 1. 0. 0. 0. 0. 0. 0. 1. 0.]\n",
      " [0. 1. 1. 1. 1. 1. 1. 1. 1. 0.]\n",
      " [0. 0. 0. 0. 0. 0. 0. 0. 0. 0.]]\n"
     ]
    }
   ],
   "source": [
    "a[3:-3,3:-3]=2\n",
    "a[4:-4,4:-4]=0\n",
    "print(a)"
   ]
  },
  {
   "cell_type": "code",
   "execution_count": 34,
   "id": "93d2f076",
   "metadata": {},
   "outputs": [
    {
     "ename": "IndentationError",
     "evalue": "unexpected indent (Temp/ipykernel_11892/2950042008.py, line 2)",
     "output_type": "error",
     "traceback": [
      "\u001b[1;36m  File \u001b[1;32m\"C:\\Users\\asus\\AppData\\Local\\Temp/ipykernel_11892/2950042008.py\"\u001b[1;36m, line \u001b[1;32m2\u001b[0m\n\u001b[1;33m    a[b,b]=9\u001b[0m\n\u001b[1;37m    ^\u001b[0m\n\u001b[1;31mIndentationError\u001b[0m\u001b[1;31m:\u001b[0m unexpected indent\n"
     ]
    }
   ],
   "source": []
  },
  {
   "cell_type": "code",
   "execution_count": null,
   "id": "651359a7",
   "metadata": {},
   "outputs": [],
   "source": []
  }
 ],
 "metadata": {
  "kernelspec": {
   "display_name": "Python 3 (ipykernel)",
   "language": "python",
   "name": "python3"
  },
  "language_info": {
   "codemirror_mode": {
    "name": "ipython",
    "version": 3
   },
   "file_extension": ".py",
   "mimetype": "text/x-python",
   "name": "python",
   "nbconvert_exporter": "python",
   "pygments_lexer": "ipython3",
   "version": "3.9.7"
  }
 },
 "nbformat": 4,
 "nbformat_minor": 5
}
