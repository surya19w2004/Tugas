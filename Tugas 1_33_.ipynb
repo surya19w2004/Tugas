{
 "cells": [
  {
   "cell_type": "markdown",
   "id": "6483672c",
   "metadata": {},
   "source": [
    "# 5.1 PRINT"
   ]
  },
  {
   "cell_type": "markdown",
   "id": "a64ec6cb",
   "metadata": {},
   "source": [
    "#### Print adalah perintah yang digunakan untuk mencetak kata yang ada di dalam tanda petik\n",
    "\n",
    "#### cara penggunaan: print(\"...\")"
   ]
  },
  {
   "cell_type": "code",
   "execution_count": 1,
   "id": "ee0c4bea",
   "metadata": {},
   "outputs": [
    {
     "name": "stdout",
     "output_type": "stream",
     "text": [
      "namaku adalah surya\n"
     ]
    }
   ],
   "source": [
    "print(\"namaku adalah surya\")"
   ]
  },
  {
   "cell_type": "code",
   "execution_count": 2,
   "id": "f70b3539",
   "metadata": {},
   "outputs": [
    {
     "name": "stdout",
     "output_type": "stream",
     "text": [
      "123456\n"
     ]
    }
   ],
   "source": [
    "print(\"123456\")"
   ]
  },
  {
   "cell_type": "code",
   "execution_count": 3,
   "id": "93c70931",
   "metadata": {},
   "outputs": [
    {
     "name": "stdout",
     "output_type": "stream",
     "text": [
      "600\n"
     ]
    }
   ],
   "source": [
    "panjang = 30\n",
    "lebar = 20\n",
    "print(panjang*lebar)"
   ]
  },
  {
   "cell_type": "code",
   "execution_count": 6,
   "id": "ae5c01a4",
   "metadata": {},
   "outputs": [
    {
     "name": "stdout",
     "output_type": "stream",
     "text": [
      "Matematika MIPA Universitas Udayana \n"
     ]
    }
   ],
   "source": [
    "prodi = \"Matematika \"\n",
    "Fakultas = \"MIPA \"\n",
    "Universitas = \"Universitas Udayana \"\n",
    "print(prodi + Fakultas + Universitas)"
   ]
  },
  {
   "cell_type": "markdown",
   "id": "dfbd4310",
   "metadata": {},
   "source": [
    " "
   ]
  },
  {
   "cell_type": "markdown",
   "id": "c77ad2a0",
   "metadata": {},
   "source": [
    "# 5.2 INPUT"
   ]
  },
  {
   "cell_type": "markdown",
   "id": "188c222a",
   "metadata": {},
   "source": [
    "#### Digunakan untuk meminta informasi dari pengguna (yang menjalankan program)\n",
    "#### cara penggunaan: input(\"...\")"
   ]
  },
  {
   "cell_type": "code",
   "execution_count": 8,
   "id": "4e722742",
   "metadata": {},
   "outputs": [
    {
     "name": "stdout",
     "output_type": "stream",
     "text": [
      "siapakah nama anda? surya\n",
      "Hallo surya salam kenal\n"
     ]
    }
   ],
   "source": [
    "nama = input(\"siapakah nama anda? \")\n",
    "print(\"Hallo \" + nama + \" salam kenal\" )"
   ]
  },
  {
   "cell_type": "markdown",
   "id": "77cf718c",
   "metadata": {},
   "source": [
    " "
   ]
  },
  {
   "cell_type": "markdown",
   "id": "112f6520",
   "metadata": {},
   "source": [
    "# 5.3 TIPE DATA"
   ]
  },
  {
   "cell_type": "markdown",
   "id": "e28247ad",
   "metadata": {},
   "source": [
    "#### int = bilangan bulat\n",
    "#### float = bilangan desimal\n",
    "#### str = huruf\n",
    "#### bool = True False\n",
    "\n",
    "#### cara mengetahui tipe data: type(variabel)"
   ]
  },
  {
   "cell_type": "code",
   "execution_count": 11,
   "id": "92d18f1f",
   "metadata": {},
   "outputs": [
    {
     "name": "stdout",
     "output_type": "stream",
     "text": [
      "panjang alas segitiga adalah 6\n",
      "tinggi segitiga adalah 5\n",
      "luas segiitiga adalah 30.0\n"
     ]
    }
   ],
   "source": [
    "alas= input(\"panjang alas segitiga adalah \")\n",
    "tinggi = input(\"tinggi segitiga adalah \")\n",
    "luas = float(alas)* float(tinggi)\n",
    "print(\"luas segiitiga adalah \" + str(luas))"
   ]
  },
  {
   "cell_type": "markdown",
   "id": "b29f3895",
   "metadata": {},
   "source": [
    " "
   ]
  },
  {
   "cell_type": "markdown",
   "id": "0f207d0a",
   "metadata": {},
   "source": [
    "# 5.4 FORMATTED STRING"
   ]
  },
  {
   "cell_type": "markdown",
   "id": "e4aa5076",
   "metadata": {},
   "source": [
    "#### Untuk mempermudah penulisan nilai variabel yang ingin dicetak pada perintah print\n",
    "#### penulisan:print(f\"{variabel}) "
   ]
  },
  {
   "cell_type": "code",
   "execution_count": 13,
   "id": "0db50b07",
   "metadata": {},
   "outputs": [
    {
     "name": "stdout",
     "output_type": "stream",
     "text": [
      "surya\n"
     ]
    }
   ],
   "source": [
    "nama = \"surya\"\n",
    "print(f\"{nama}\")"
   ]
  },
  {
   "cell_type": "markdown",
   "id": "f1502677",
   "metadata": {},
   "source": [
    " "
   ]
  },
  {
   "cell_type": "markdown",
   "id": "190edaf2",
   "metadata": {},
   "source": [
    "# 5.5 STRINGS INDEX"
   ]
  },
  {
   "cell_type": "markdown",
   "id": "44a11c6d",
   "metadata": {},
   "source": [
    "#### Variabel string dapat diurutkan dengn huruf yang dimulai dengan 0.\n",
    "#### uniknya di phyton huruf terakhir adalah -1, 2 dari terakhir -2 dan seterusnya\n",
    "#### penggunaan: print(variabel[urutan huruf:urutan huruf])"
   ]
  },
  {
   "cell_type": "code",
   "execution_count": 15,
   "id": "111a3d88",
   "metadata": {},
   "outputs": [
    {
     "name": "stdout",
     "output_type": "stream",
     "text": [
      "I GEDE SURYA WIRAWA\n",
      "DE S\n",
      " SURYA \n"
     ]
    }
   ],
   "source": [
    "nama = \"I GEDE SURYA WIRAWAN\"\n",
    "\n",
    "print(nama[0:-1])\n",
    "print(nama[4:8])\n",
    "print(nama[6:-7])"
   ]
  },
  {
   "cell_type": "markdown",
   "id": "20679e9c",
   "metadata": {},
   "source": [
    "  "
   ]
  },
  {
   "cell_type": "markdown",
   "id": "cb93c437",
   "metadata": {},
   "source": [
    "# 5.6 STRINGS METHOD"
   ]
  },
  {
   "cell_type": "markdown",
   "id": "7d842ff8",
   "metadata": {},
   "source": [
    "#### Beberapa methoda yang digunakan pada variabel berjenis string\n",
    "#### variabel.upper()                                 : membuat huruf besar semua\n",
    "#### variabel.lower()                                 : membuat hutruf kecil semua\n",
    "#### variabel.find(item)                              : melihat dimana letak huruf pertama dari item (dimulai dari 0)\n",
    "#### variabel replace('item sebelum , item sesuadah') : mengganti kata dalam variabel\n",
    "#### print('item' in variabel)                        : mengecek apakah benar item ada di variabel (outout True or False)"
   ]
  },
  {
   "cell_type": "code",
   "execution_count": 3,
   "id": "03d2203c",
   "metadata": {},
   "outputs": [
    {
     "data": {
      "text/plain": [
       "'I GEDE SURYA WIRAWAN'"
      ]
     },
     "execution_count": 3,
     "metadata": {},
     "output_type": "execute_result"
    }
   ],
   "source": [
    "nama= \"I Gede Surya Wirawan\"\n",
    "\n",
    "nama.upper()\n"
   ]
  },
  {
   "cell_type": "code",
   "execution_count": 4,
   "id": "35fde463",
   "metadata": {},
   "outputs": [
    {
     "data": {
      "text/plain": [
       "'i gede surya wirawan'"
      ]
     },
     "execution_count": 4,
     "metadata": {},
     "output_type": "execute_result"
    }
   ],
   "source": [
    "nama.lower()"
   ]
  },
  {
   "cell_type": "code",
   "execution_count": 7,
   "id": "5d51233b",
   "metadata": {},
   "outputs": [
    {
     "data": {
      "text/plain": [
       "7"
      ]
     },
     "execution_count": 7,
     "metadata": {},
     "output_type": "execute_result"
    }
   ],
   "source": [
    "nama.find('Surya')"
   ]
  },
  {
   "cell_type": "code",
   "execution_count": 8,
   "id": "e0a85cb5",
   "metadata": {},
   "outputs": [
    {
     "data": {
      "text/plain": [
       "13"
      ]
     },
     "execution_count": 8,
     "metadata": {},
     "output_type": "execute_result"
    }
   ],
   "source": [
    "nama.find('Wirawan')"
   ]
  },
  {
   "cell_type": "code",
   "execution_count": 13,
   "id": "2fef743a",
   "metadata": {},
   "outputs": [
    {
     "data": {
      "text/plain": [
       "'I Wayan Surya Wirawan'"
      ]
     },
     "execution_count": 13,
     "metadata": {},
     "output_type": "execute_result"
    }
   ],
   "source": [
    "nama.replace('Gede' , 'Wayan')"
   ]
  },
  {
   "cell_type": "code",
   "execution_count": 17,
   "id": "b0c6bb90",
   "metadata": {},
   "outputs": [
    {
     "name": "stdout",
     "output_type": "stream",
     "text": [
      "True\n"
     ]
    }
   ],
   "source": [
    "print('Surya' in nama)"
   ]
  },
  {
   "cell_type": "code",
   "execution_count": 18,
   "id": "1a454e4b",
   "metadata": {},
   "outputs": [
    {
     "name": "stdout",
     "output_type": "stream",
     "text": [
      "False\n",
      "False\n"
     ]
    }
   ],
   "source": [
    "print('surya' in nama)\n",
    "print('SURYA'in nama)"
   ]
  },
  {
   "cell_type": "markdown",
   "id": "b7511579",
   "metadata": {},
   "source": [
    "# 5.7 OPERASI MATEMATIKA DI PHYTON"
   ]
  },
  {
   "cell_type": "markdown",
   "id": "694a529d",
   "metadata": {},
   "source": [
    "#### Penjumlahan  : (x+y)\n",
    "#### Pengurangan  : (x-y)\n",
    "#### perkalian    : (x*y)\n",
    "#### Pembagian    : (x/y)\n",
    "#### pembulatan pembagian : (x//y)\n",
    "#### modulo               : (x%y)\n",
    "#### pemangkatan          : (x**y)\n",
    "#### augmanted operator   : contoh : x+=1 yang artinya x=x+1"
   ]
  },
  {
   "cell_type": "code",
   "execution_count": 19,
   "id": "540eaa3f",
   "metadata": {},
   "outputs": [
    {
     "name": "stdout",
     "output_type": "stream",
     "text": [
      "14\n",
      "6\n",
      "48\n",
      "3.0\n",
      "2\n",
      "4\n",
      "5\n",
      "2\n"
     ]
    }
   ],
   "source": [
    "print(7+7)\n",
    "print(9-3)\n",
    "print(8*6)\n",
    "print(6/2)\n",
    "print(9//4)\n",
    "print(9%5)\n",
    "\n",
    "x=5\n",
    "print(x)\n",
    "x-=3\n",
    "print(x)"
   ]
  },
  {
   "cell_type": "markdown",
   "id": "1e12f25a",
   "metadata": {},
   "source": [
    "# 5.8 OPERATOR PERBANDINGAN"
   ]
  },
  {
   "cell_type": "markdown",
   "id": "0bf98c53",
   "metadata": {},
   "source": [
    "#### Output berupa True or False\n",
    "\n",
    "#### lebih dari  : x = a>b\n",
    "#### kurang dari : x = a<b\n",
    "#### lebih dari sama dengan : x = a>=b\n",
    "#### kurang dari sama dengan : x= a<=b\n",
    "#### sama dengan : x = a==b\n",
    "#### tidak sama dengan : x = a!=b"
   ]
  },
  {
   "cell_type": "code",
   "execution_count": 22,
   "id": "6320c7da",
   "metadata": {},
   "outputs": [
    {
     "name": "stdout",
     "output_type": "stream",
     "text": [
      "True\n",
      "False\n"
     ]
    }
   ],
   "source": [
    "x = 5>4\n",
    "print(x)\n",
    "y = 7>10\n",
    "print(y)"
   ]
  },
  {
   "cell_type": "code",
   "execution_count": 23,
   "id": "d7c33999",
   "metadata": {},
   "outputs": [
    {
     "name": "stdout",
     "output_type": "stream",
     "text": [
      "False\n",
      "True\n"
     ]
    }
   ],
   "source": [
    "x = 5<4\n",
    "print(x)\n",
    "y = 7<10\n",
    "print(y)"
   ]
  },
  {
   "cell_type": "code",
   "execution_count": 25,
   "id": "aff3c424",
   "metadata": {},
   "outputs": [
    {
     "name": "stdout",
     "output_type": "stream",
     "text": [
      "True\n",
      "True\n",
      "False\n"
     ]
    }
   ],
   "source": [
    "x = 5>=4\n",
    "print(x)\n",
    "y = 10>=10\n",
    "print(y)\n",
    "z = 7>=10\n",
    "print(z)"
   ]
  },
  {
   "cell_type": "code",
   "execution_count": 32,
   "id": "e32714b9",
   "metadata": {},
   "outputs": [
    {
     "name": "stdout",
     "output_type": "stream",
     "text": [
      "False\n",
      "True\n",
      "True\n"
     ]
    }
   ],
   "source": [
    "x = 5<=4\n",
    "print(x)\n",
    "y = 10<=10\n",
    "print(y)\n",
    "z = 7<=10\n",
    "print(z)"
   ]
  },
  {
   "cell_type": "code",
   "execution_count": 33,
   "id": "9fcb5628",
   "metadata": {},
   "outputs": [
    {
     "name": "stdout",
     "output_type": "stream",
     "text": [
      "False\n",
      "True\n",
      "False\n"
     ]
    }
   ],
   "source": [
    "x = 5==4\n",
    "print(x)\n",
    "y = 10==10\n",
    "print(y)\n",
    "z = 7==10\n",
    "print(z)"
   ]
  },
  {
   "cell_type": "code",
   "execution_count": 34,
   "id": "84e72c5f",
   "metadata": {},
   "outputs": [
    {
     "name": "stdout",
     "output_type": "stream",
     "text": [
      "True\n",
      "False\n",
      "True\n"
     ]
    }
   ],
   "source": [
    "x = 5!=4\n",
    "print(x)\n",
    "y = 10!=10\n",
    "print(y)\n",
    "z = 7!=10\n",
    "print(z)"
   ]
  },
  {
   "cell_type": "markdown",
   "id": "b4f076b7",
   "metadata": {},
   "source": [
    "# 5.9 OPERATOR LOGIKA"
   ]
  },
  {
   "cell_type": "markdown",
   "id": "1cd1eade",
   "metadata": {},
   "source": [
    "#### Operator logika antara lain: and, or dan not. outputnya berupa True or False"
   ]
  },
  {
   "cell_type": "code",
   "execution_count": 29,
   "id": "4096bc1a",
   "metadata": {},
   "outputs": [
    {
     "name": "stdout",
     "output_type": "stream",
     "text": [
      "True\n",
      "False\n",
      "False\n"
     ]
    }
   ],
   "source": [
    "Matkul = 7\n",
    "SKS = 19\n",
    "print(Matkul>3 and SKS>17)\n",
    "print(Matkul<3 and SKS>17)\n",
    "print(Matkul<3 and SKS<17)"
   ]
  },
  {
   "cell_type": "code",
   "execution_count": 30,
   "id": "695de8b3",
   "metadata": {},
   "outputs": [
    {
     "name": "stdout",
     "output_type": "stream",
     "text": [
      "True\n",
      "True\n",
      "False\n"
     ]
    }
   ],
   "source": [
    "Matkul = 7\n",
    "SKS = 19\n",
    "print(Matkul>3 or SKS>17)\n",
    "print(Matkul<3 or SKS>17)\n",
    "print(Matkul<3 or SKS<17)"
   ]
  },
  {
   "cell_type": "code",
   "execution_count": 31,
   "id": "7009d268",
   "metadata": {},
   "outputs": [
    {
     "name": "stdout",
     "output_type": "stream",
     "text": [
      "False\n",
      "True\n",
      "True\n"
     ]
    }
   ],
   "source": [
    "Matkul = 7\n",
    "SKS = 19\n",
    "print(not(Matkul>3 and SKS>17))\n",
    "print(not(Matkul<3 and SKS>17))\n",
    "print(not(Matkul<3 and SKS<17))"
   ]
  },
  {
   "cell_type": "markdown",
   "id": "59fb75a2",
   "metadata": {},
   "source": [
    "# 5.10 OPERASI if & else\n"
   ]
  },
  {
   "cell_type": "markdown",
   "id": "17805516",
   "metadata": {},
   "source": [
    "#### Operator if akan dijalankan bila variabel nilainya True, sedangkan jika False tidak akan dijalankan\n",
    "#### Operator else dijalankan ketika variabel bernilai False\n",
    "#### ketika menggunakan else kemudian diiikuti if dapat memakai elif"
   ]
  },
  {
   "cell_type": "code",
   "execution_count": 49,
   "id": "994e38b5",
   "metadata": {},
   "outputs": [
    {
     "name": "stdout",
     "output_type": "stream",
     "text": [
      "Berapa jam anda tidur sehari? 6\n",
      "waktu tidur anda kurang, lebih banyakalah beristirahat\n"
     ]
    }
   ],
   "source": [
    "waktu = float(input(\"Berapa jam anda tidur sehari? \"))\n",
    "if waktu<=6:\n",
    "    print(\"waktu tidur anda kurang, lebih banyakalah beristirahat\")\n",
    "elif waktu>6 and waktu<=9:\n",
    "    print(\"anda sudah tidur dengan cukup\")\n",
    "elif waktu>9 and waktu<=24:\n",
    "    print(\"anda terlalu banyak tidur\")\n",
    "else:\n",
    "    print(\"masukkan data dengan benar\")"
   ]
  },
  {
   "cell_type": "markdown",
   "id": "3fab61d2",
   "metadata": {},
   "source": [
    "## \n",
    "## Latihan\n",
    "#### Buatlah program yang merubah tinggi badan seseorang dari cm ke inci atau sebaliknya"
   ]
  },
  {
   "cell_type": "markdown",
   "id": "5636cc64",
   "metadata": {},
   "source": [
    "#### dari cm ke inci"
   ]
  },
  {
   "cell_type": "code",
   "execution_count": 1,
   "id": "d8bfd3b9",
   "metadata": {},
   "outputs": [
    {
     "name": "stdout",
     "output_type": "stream",
     "text": [
      "Tinggi badan anda (dalam satuan cm) adalah 155\n",
      "tinggi badan anda adalah 61.0235 inci\n"
     ]
    }
   ],
   "source": [
    "tinggi = int(input(\"Tinggi badan anda (dalam satuan cm) adalah \"))\n",
    "TINGGI = float(tinggi*0.3937)\n",
    "print(\"tinggi badan anda adalah \" + str(TINGGI) + \" inci\")"
   ]
  },
  {
   "cell_type": "markdown",
   "id": "1773e5a6",
   "metadata": {},
   "source": [
    "#### dari inci ke cm"
   ]
  },
  {
   "cell_type": "code",
   "execution_count": 2,
   "id": "6bb85f6f",
   "metadata": {},
   "outputs": [
    {
     "name": "stdout",
     "output_type": "stream",
     "text": [
      "Tinggi badan anda (dalam satuan inci) adalah 50\n",
      "tinggi badan anda adalah 127.0 cm\n"
     ]
    }
   ],
   "source": [
    "tinggi = float(input(\"Tinggi badan anda (dalam satuan inci) adalah \"))\n",
    "TINGGI = float(tinggi*2.54)\n",
    "print(\"tinggi badan anda adalah \" + str(TINGGI) + \" cm\")"
   ]
  },
  {
   "cell_type": "markdown",
   "id": "ff43407a",
   "metadata": {},
   "source": [
    "# 5.11 WHILE LOOP\n",
    "#### While loop selalu dieksekusi ketika variabel bernilai True dan berhenti ketika False"
   ]
  },
  {
   "cell_type": "code",
   "execution_count": 1,
   "id": "10563e6b",
   "metadata": {},
   "outputs": [
    {
     "name": "stdout",
     "output_type": "stream",
     "text": [
      "angka 0 lebih kecil dari 10\n",
      "angka 1 lebih kecil dari 10\n",
      "angka 2 lebih kecil dari 10\n",
      "angka 3 lebih kecil dari 10\n",
      "angka 4 lebih kecil dari 10\n",
      "angka 5 lebih kecil dari 10\n",
      "angka 6 lebih kecil dari 10\n",
      "angka 7 lebih kecil dari 10\n",
      "angka 8 lebih kecil dari 10\n",
      "angka 9 lebih kecil dari 10\n"
     ]
    }
   ],
   "source": [
    "a=0\n",
    "while a<10:\n",
    "    print(\"angka \" + str(a) + \" lebih kecil dari 10\")\n",
    "    a+=1"
   ]
  },
  {
   "cell_type": "code",
   "execution_count": 2,
   "id": "c787f571",
   "metadata": {},
   "outputs": [
    {
     "name": "stdout",
     "output_type": "stream",
     "text": [
      "*\n",
      "**\n",
      "***\n",
      "****\n",
      "*****\n",
      "******\n",
      "*******\n",
      "********\n",
      "*********\n"
     ]
    }
   ],
   "source": [
    "a=1\n",
    "while a<10:\n",
    "    print(a*\"*\")\n",
    "    a+=1"
   ]
  }
 ],
 "metadata": {
  "kernelspec": {
   "display_name": "Python 3 (ipykernel)",
   "language": "python",
   "name": "python3"
  },
  "language_info": {
   "codemirror_mode": {
    "name": "ipython",
    "version": 3
   },
   "file_extension": ".py",
   "mimetype": "text/x-python",
   "name": "python",
   "nbconvert_exporter": "python",
   "pygments_lexer": "ipython3",
   "version": "3.9.7"
  }
 },
 "nbformat": 4,
 "nbformat_minor": 5
}
