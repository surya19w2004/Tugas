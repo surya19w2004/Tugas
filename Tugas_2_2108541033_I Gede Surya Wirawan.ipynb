{
 "cells": [
  {
   "cell_type": "markdown",
   "id": "deb3cd87",
   "metadata": {},
   "source": [
    "# 5.12 LIST DI PHYTON\n",
    "#### Mempresentasikan objek dilalam phyton baik string maupun berupa angka"
   ]
  },
  {
   "cell_type": "code",
   "execution_count": 1,
   "id": "ff2cb5cd",
   "metadata": {},
   "outputs": [
    {
     "name": "stdout",
     "output_type": "stream",
     "text": [
      "['Messi', 'Iniesta', 'Puyol', 'Xavi']\n"
     ]
    }
   ],
   "source": [
    "pemain = ['Messi' , 'Iniesta' , 'Puyol' , 'Xavi']\n",
    "print(pemain)"
   ]
  },
  {
   "cell_type": "code",
   "execution_count": 2,
   "id": "3bfd7c7c",
   "metadata": {},
   "outputs": [
    {
     "name": "stdout",
     "output_type": "stream",
     "text": [
      "Messi\n",
      "Iniesta\n",
      "Puyol\n",
      "Xavi\n",
      "Puyol\n"
     ]
    }
   ],
   "source": [
    "print(pemain[0])\n",
    "print(pemain[1])\n",
    "print(pemain[2])\n",
    "print(pemain[3])\n",
    "print(pemain[-2])"
   ]
  },
  {
   "cell_type": "code",
   "execution_count": 3,
   "id": "121e5835",
   "metadata": {},
   "outputs": [
    {
     "name": "stdout",
     "output_type": "stream",
     "text": [
      "['Messi', 'Iniesta', 'Puyol', 'Xavi']\n",
      "['Iniesta', 'Puyol']\n"
     ]
    }
   ],
   "source": [
    "print(pemain[0:5])\n",
    "print(pemain[1:-1])"
   ]
  },
  {
   "cell_type": "code",
   "execution_count": 4,
   "id": "cdc216a3",
   "metadata": {},
   "outputs": [
    {
     "name": "stdout",
     "output_type": "stream",
     "text": [
      "['Messi', 'Iniesta', 'Busquets', 'Xavi']\n"
     ]
    }
   ],
   "source": [
    "pemain[2] = 'Busquets'\n",
    "print(pemain)"
   ]
  },
  {
   "cell_type": "markdown",
   "id": "ffe96a0c",
   "metadata": {},
   "source": [
    "# 5.13 METODA LIST\n",
    "#### Memanipulasi isi list seperti menambahkan atau menghilangkan isinya\n",
    "#### variabel.append('item') untuk menambahkan isi\n",
    "#### variabel.insert(pos,'item') untuk menambahkan di posisi yang kita inginkan\n",
    "#### variabel.remove('item) untuk menghilangkan isi\n",
    "#### len(variabel) untuk mengecek jumlah item"
   ]
  },
  {
   "cell_type": "code",
   "execution_count": 5,
   "id": "5f0eb145",
   "metadata": {},
   "outputs": [
    {
     "name": "stdout",
     "output_type": "stream",
     "text": [
      "['Messi', 'Iniesta', 'Busquets', 'Xavi', 'Neymar']\n"
     ]
    }
   ],
   "source": [
    "pemain.append('Neymar')\n",
    "print(pemain)"
   ]
  },
  {
   "cell_type": "code",
   "execution_count": 6,
   "id": "cc15c628",
   "metadata": {},
   "outputs": [
    {
     "name": "stdout",
     "output_type": "stream",
     "text": [
      "['Messi', 'Iniesta', 'Busquets', 'Xavi', 'Suarez', 'Neymar']\n"
     ]
    }
   ],
   "source": [
    "pemain.insert(4,'Suarez')\n",
    "print(pemain)"
   ]
  },
  {
   "cell_type": "code",
   "execution_count": 7,
   "id": "5b1d6da5",
   "metadata": {},
   "outputs": [
    {
     "name": "stdout",
     "output_type": "stream",
     "text": [
      "['Messi', 'Iniesta', 'Busquets', 'Xavi', 'Suarez']\n"
     ]
    }
   ],
   "source": [
    "pemain.remove('Neymar')\n",
    "print(pemain)"
   ]
  },
  {
   "cell_type": "code",
   "execution_count": 8,
   "id": "8e4f72d2",
   "metadata": {},
   "outputs": [
    {
     "name": "stdout",
     "output_type": "stream",
     "text": [
      "5\n"
     ]
    }
   ],
   "source": [
    "print(len(pemain))"
   ]
  },
  {
   "cell_type": "markdown",
   "id": "7bb606dc",
   "metadata": {},
   "source": [
    "# 5.14 FOR LOOP\n",
    "#### Digunakan untuk memanggil semua isi list"
   ]
  },
  {
   "cell_type": "code",
   "execution_count": 9,
   "id": "9a86dae1",
   "metadata": {},
   "outputs": [
    {
     "name": "stdout",
     "output_type": "stream",
     "text": [
      "Messi\n",
      "Iniesta\n",
      "Busquets\n",
      "Xavi\n",
      "Suarez\n"
     ]
    }
   ],
   "source": [
    "for Pemain in pemain:\n",
    "    print(Pemain)"
   ]
  },
  {
   "cell_type": "markdown",
   "id": "13233caf",
   "metadata": {},
   "source": [
    "# 5.15 FUNGSI RANGE\n",
    "#### membangkitkan bilangan berurutan atau berpola. dalam penggunaannya dikombinasikan dengan for"
   ]
  },
  {
   "cell_type": "code",
   "execution_count": 10,
   "id": "64aaf7f9",
   "metadata": {},
   "outputs": [
    {
     "name": "stdout",
     "output_type": "stream",
     "text": [
      "range(0, 10)\n"
     ]
    }
   ],
   "source": [
    "angka = range(10)\n",
    "print(angka)"
   ]
  },
  {
   "cell_type": "code",
   "execution_count": 11,
   "id": "d743e357",
   "metadata": {},
   "outputs": [
    {
     "name": "stdout",
     "output_type": "stream",
     "text": [
      "0\n",
      "1\n",
      "2\n",
      "3\n",
      "4\n",
      "5\n",
      "6\n",
      "7\n",
      "8\n",
      "9\n"
     ]
    }
   ],
   "source": [
    "for isi in angka:\n",
    "    print(isi)"
   ]
  },
  {
   "cell_type": "code",
   "execution_count": 12,
   "id": "20fbeacd",
   "metadata": {},
   "outputs": [
    {
     "name": "stdout",
     "output_type": "stream",
     "text": [
      "5\n",
      "6\n",
      "7\n",
      "8\n",
      "9\n"
     ]
    }
   ],
   "source": [
    "for isi in range(5,10):\n",
    "    print(isi)"
   ]
  },
  {
   "cell_type": "code",
   "execution_count": 13,
   "id": "21f98cd1",
   "metadata": {},
   "outputs": [
    {
     "name": "stdout",
     "output_type": "stream",
     "text": [
      "0\n",
      "3\n",
      "6\n",
      "9\n"
     ]
    }
   ],
   "source": [
    "for isi in range(0,10,3):\n",
    "    print(isi)"
   ]
  },
  {
   "cell_type": "markdown",
   "id": "f580bcc6",
   "metadata": {},
   "source": [
    "### Latihan\n",
    "#### 1. Buatlah program umtuk menncari nilai terbesar didalam suatu list"
   ]
  },
  {
   "cell_type": "code",
   "execution_count": 14,
   "id": "6da41dd1",
   "metadata": {},
   "outputs": [
    {
     "name": "stdout",
     "output_type": "stream",
     "text": [
      "10\n"
     ]
    }
   ],
   "source": [
    "data = [4,10,3,8]\n",
    "maks = data[0]\n",
    "for x in range(len(data)):\n",
    "    if data[x] > maks:\n",
    "        maks = data[x]\n",
    "print(maks)"
   ]
  },
  {
   "cell_type": "markdown",
   "id": "2998db98",
   "metadata": {},
   "source": [
    "#### 2. Buatlah program untuk membuat anggota list menjadi unik dengan kata lain tidak ada anggota list  yang kembar"
   ]
  },
  {
   "cell_type": "code",
   "execution_count": 15,
   "id": "fa09086e",
   "metadata": {},
   "outputs": [
    {
     "name": "stdout",
     "output_type": "stream",
     "text": [
      "[0, 1, 3, 4, 5, 7]\n"
     ]
    }
   ],
   "source": [
    "data = [0,1,3,3,4,3,4,5,7,3,5,4]\n",
    "data_unik = []\n",
    "for x in data:\n",
    "    if x not in data_unik:\n",
    "        data_unik.append(x)\n",
    "print(data_unik)"
   ]
  },
  {
   "cell_type": "markdown",
   "id": "33da5a1f",
   "metadata": {},
   "source": [
    "# 5.16 LIST 2 DIMENSI\n",
    "#### Menempatkan list dalam list"
   ]
  },
  {
   "cell_type": "code",
   "execution_count": 16,
   "id": "4aa51ea2",
   "metadata": {},
   "outputs": [
    {
     "name": "stdout",
     "output_type": "stream",
     "text": [
      "([1, 2, 3], [4, 5, 6], [7, 8, 9])\n"
     ]
    }
   ],
   "source": [
    "matrik = [1,2,3],[4,5,6],[7,8,9]\n",
    "print(matrik)"
   ]
  },
  {
   "cell_type": "code",
   "execution_count": 17,
   "id": "f8cc5351",
   "metadata": {},
   "outputs": [
    {
     "data": {
      "text/plain": [
       "[7, 8, 9]"
      ]
     },
     "execution_count": 17,
     "metadata": {},
     "output_type": "execute_result"
    }
   ],
   "source": [
    "matrik[2]"
   ]
  },
  {
   "cell_type": "code",
   "execution_count": 18,
   "id": "df39a2aa",
   "metadata": {},
   "outputs": [
    {
     "data": {
      "text/plain": [
       "4"
      ]
     },
     "execution_count": 18,
     "metadata": {},
     "output_type": "execute_result"
    }
   ],
   "source": [
    "matrik[1][0]"
   ]
  },
  {
   "cell_type": "code",
   "execution_count": 19,
   "id": "f0ffee81",
   "metadata": {},
   "outputs": [
    {
     "name": "stdout",
     "output_type": "stream",
     "text": [
      "([1, 2, 3], [4, 5, 6], [7, 10, 9])\n"
     ]
    }
   ],
   "source": [
    "matrik[2][1]=10\n",
    "print(matrik)"
   ]
  },
  {
   "cell_type": "code",
   "execution_count": 20,
   "id": "2a84cacc",
   "metadata": {},
   "outputs": [
    {
     "name": "stdout",
     "output_type": "stream",
     "text": [
      "[1, 2, 3]\n",
      "1\n",
      "2\n",
      "3\n",
      "[4, 5, 6]\n",
      "4\n",
      "5\n",
      "6\n",
      "[7, 10, 9]\n",
      "7\n",
      "10\n",
      "9\n"
     ]
    }
   ],
   "source": [
    "for baris in matrik:\n",
    "    print(baris)\n",
    "    for kolom in baris:\n",
    "        print(kolom)"
   ]
  },
  {
   "cell_type": "markdown",
   "id": "fd15b08e",
   "metadata": {},
   "source": [
    "# 5.17 TUPLES\n",
    "#### Mirip seperti list namun tidak dapat diubah isinya"
   ]
  },
  {
   "cell_type": "code",
   "execution_count": 21,
   "id": "fcf74402",
   "metadata": {},
   "outputs": [],
   "source": [
    "angka = (2,4,6,8,10,12)"
   ]
  },
  {
   "cell_type": "code",
   "execution_count": 22,
   "id": "2db3024c",
   "metadata": {},
   "outputs": [
    {
     "name": "stdout",
     "output_type": "stream",
     "text": [
      "10\n"
     ]
    }
   ],
   "source": [
    "print(angka[4])"
   ]
  },
  {
   "cell_type": "code",
   "execution_count": 23,
   "id": "05b11b42",
   "metadata": {},
   "outputs": [
    {
     "name": "stdout",
     "output_type": "stream",
     "text": [
      "(8, 10)\n"
     ]
    }
   ],
   "source": [
    "print(angka[3:5])"
   ]
  },
  {
   "cell_type": "code",
   "execution_count": 24,
   "id": "833dd65d",
   "metadata": {},
   "outputs": [
    {
     "name": "stdout",
     "output_type": "stream",
     "text": [
      "2\n",
      "4\n",
      "6\n",
      "8\n",
      "10\n",
      "12\n"
     ]
    }
   ],
   "source": [
    "for isi in angka:\n",
    "    print(isi)"
   ]
  },
  {
   "cell_type": "code",
   "execution_count": 25,
   "id": "1a497df4",
   "metadata": {},
   "outputs": [
    {
     "ename": "SyntaxError",
     "evalue": "invalid syntax (Temp/ipykernel_14880/1163626827.py, line 1)",
     "output_type": "error",
     "traceback": [
      "\u001b[1;36m  File \u001b[1;32m\"C:\\Users\\asus\\AppData\\Local\\Temp/ipykernel_14880/1163626827.py\"\u001b[1;36m, line \u001b[1;32m1\u001b[0m\n\u001b[1;33m    angka 0 = 4\u001b[0m\n\u001b[1;37m          ^\u001b[0m\n\u001b[1;31mSyntaxError\u001b[0m\u001b[1;31m:\u001b[0m invalid syntax\n"
     ]
    }
   ],
   "source": [
    "angka 0 = 4\n",
    "angka.append(14)\n",
    "angka.remove(4)"
   ]
  },
  {
   "cell_type": "markdown",
   "id": "7f7f742d",
   "metadata": {},
   "source": [
    "#### Seperti yang sudah dijelaskan sebelumnya tupples tidak bisa diubah isi datanya \n",
    "#### terdapat fungsi count dan index. count berfungsi untuk menghitung ada berapa jumlah data yang ingin diketahui. index untuk mengetahui berada di urutan berapa data tersebut berada (dimulai dari 0)"
   ]
  },
  {
   "cell_type": "code",
   "execution_count": 26,
   "id": "03562354",
   "metadata": {},
   "outputs": [
    {
     "data": {
      "text/plain": [
       "1"
      ]
     },
     "execution_count": 26,
     "metadata": {},
     "output_type": "execute_result"
    }
   ],
   "source": [
    "angka.count(2)"
   ]
  },
  {
   "cell_type": "code",
   "execution_count": 27,
   "id": "da348b19",
   "metadata": {},
   "outputs": [
    {
     "data": {
      "text/plain": [
       "1"
      ]
     },
     "execution_count": 27,
     "metadata": {},
     "output_type": "execute_result"
    }
   ],
   "source": [
    "angka.index(4)"
   ]
  },
  {
   "cell_type": "markdown",
   "id": "c43d6e36",
   "metadata": {},
   "source": [
    "# 5.18 DICTIONARIES\n",
    "#### Dictionaries digunakan jika data terikat satu sama lain"
   ]
  },
  {
   "cell_type": "code",
   "execution_count": 28,
   "id": "9d27e432",
   "metadata": {},
   "outputs": [
    {
     "name": "stdout",
     "output_type": "stream",
     "text": [
      "Lionel Messi\n"
     ]
    }
   ],
   "source": [
    "data_pemain = {\n",
    "    'Nama' : 'Lionel Messi',\n",
    "    'negara' : 'Argentina',\n",
    "    'posisi' : 'Forward'\n",
    "}\n",
    "\n",
    "print(data_pemain['Nama'])"
   ]
  },
  {
   "cell_type": "code",
   "execution_count": 29,
   "id": "c5d4b7cc",
   "metadata": {},
   "outputs": [
    {
     "name": "stdout",
     "output_type": "stream",
     "text": [
      "Argentina\n"
     ]
    }
   ],
   "source": [
    "print(data_pemain['negara'])"
   ]
  },
  {
   "cell_type": "code",
   "execution_count": 30,
   "id": "d3d10e6c",
   "metadata": {},
   "outputs": [
    {
     "name": "stdout",
     "output_type": "stream",
     "text": [
      "Forward\n"
     ]
    }
   ],
   "source": [
    "print(data_pemain['posisi'])"
   ]
  },
  {
   "cell_type": "markdown",
   "id": "b5ac5ba1",
   "metadata": {},
   "source": [
    "### Latihan\n",
    "#### Buatlah program untuk merubah nomor yang tadinya berupa angka menjadi sebutan bilangan tersebut.  Misalnya angka 0812 akan menjadi nol delapan satu dua"
   ]
  },
  {
   "cell_type": "code",
   "execution_count": 31,
   "id": "ab8845a5",
   "metadata": {},
   "outputs": [],
   "source": [
    "angka ={\n",
    "    '0' : 'nol ',\n",
    "    '1' : 'satu ',\n",
    "    '2' : 'dua ',\n",
    "    '3' : 'tiga ',\n",
    "    '4' : 'empat ',\n",
    "    '5' : 'lima ',\n",
    "    '6' : 'enam ',\n",
    "    '7' : 'tujuh ',\n",
    "    '8' : 'delapan ',\n",
    "    '9' : 'sembilan '\n",
    "}"
   ]
  },
  {
   "cell_type": "code",
   "execution_count": 37,
   "id": "92c0c22e",
   "metadata": {},
   "outputs": [
    {
     "name": "stdout",
     "output_type": "stream",
     "text": [
      "masukkan nomor HP anda 59212193\n",
      "lima sembilan dua satu dua satu sembilan tiga \n"
     ]
    }
   ],
   "source": [
    "nomor_hp = input(\"masukkan nomor HP anda \")\n",
    "nomor_angka = \"\"\n",
    "for isi in nomor_hp:\n",
    "    nomor_angka += angka.get(isi) + \"\"\n",
    "print(nomor_angka)"
   ]
  },
  {
   "cell_type": "markdown",
   "id": "c160f027",
   "metadata": {},
   "source": [
    "# 5.19 FUNGSI DALAM PHYTON\n",
    "#### Sampai sejauh ini tanpa disadari kita telah menerapkan beberapa jenis fungsipada Python seperti fungsi input, print, len, range, dll. Pada dasarnya fungsi dibentuk untuk menghidari pengulangan pembuatan program secara manual dimana fungsi tersebut memiliki pengulangan yang tinggi dalam program yang kita buat. Jadi untuk mempermudah dan meringkas program yang kita buat, setiap fungsi tersebut dibutuhkan tinggal kita panggil."
   ]
  },
  {
   "cell_type": "code",
   "execution_count": 1,
   "id": "a94466ed",
   "metadata": {},
   "outputs": [],
   "source": [
    "def full_name(first_name,last_name):\n",
    "    print(f\"Nama lengkapnya adalah {first_name} {last_name}\")\n"
   ]
  },
  {
   "cell_type": "code",
   "execution_count": 2,
   "id": "934edcad",
   "metadata": {},
   "outputs": [
    {
     "name": "stdout",
     "output_type": "stream",
     "text": [
      "Nama depan anda adalah? surya\n",
      "Nama belakang anda adalah? wirawan\n",
      "Nama lengkapnya adalah surya wirawan\n"
     ]
    }
   ],
   "source": [
    "first_name = input(\"Nama depan anda adalah? \")\n",
    "last_name = input (\"Nama belakang anda adalah? \")\n",
    "full_name(first_name,last_name)"
   ]
  },
  {
   "cell_type": "markdown",
   "id": "01c1a801",
   "metadata": {},
   "source": [
    "## 5.19.1 Tugas Fungsi Pada Phyton\n",
    "#### 1. Menjalankan perintah\n",
    "#### 2. Menampilkan hasil perhitungan"
   ]
  },
  {
   "cell_type": "code",
   "execution_count": 9,
   "id": "1e88daf3",
   "metadata": {},
   "outputs": [],
   "source": [
    "def waktu_sampai(jarak,kecepatan):\n",
    "    waktu = jarak/kecepatan\n",
    "    print(waktu)"
   ]
  },
  {
   "cell_type": "code",
   "execution_count": 4,
   "id": "5e300daa",
   "metadata": {},
   "outputs": [],
   "source": [
    "def waktu_tempuh(jarak,kecepatan):\n",
    "    waktu = jarak/kecepatan\n",
    "    return waktu\n",
    "    "
   ]
  },
  {
   "cell_type": "code",
   "execution_count": 10,
   "id": "0851f4b5",
   "metadata": {},
   "outputs": [
    {
     "name": "stdout",
     "output_type": "stream",
     "text": [
      "1.3333333333333333\n"
     ]
    }
   ],
   "source": [
    "waktu_sampai(80,60)"
   ]
  },
  {
   "cell_type": "code",
   "execution_count": 6,
   "id": "fe7f7c97",
   "metadata": {
    "collapsed": true
   },
   "outputs": [
    {
     "data": {
      "text/plain": [
       "1.3333333333333333"
      ]
     },
     "execution_count": 6,
     "metadata": {},
     "output_type": "execute_result"
    }
   ],
   "source": [
    "waktu_tempuh(80,60)"
   ]
  },
  {
   "cell_type": "code",
   "execution_count": 7,
   "id": "f9e607ee",
   "metadata": {},
   "outputs": [
    {
     "name": "stdout",
     "output_type": "stream",
     "text": [
      "1.3333333333333333\n",
      "None\n"
     ]
    }
   ],
   "source": [
    "a= waktu_sampai(80,60)\n",
    "print(a)"
   ]
  },
  {
   "cell_type": "code",
   "execution_count": 8,
   "id": "901f4b85",
   "metadata": {},
   "outputs": [
    {
     "name": "stdout",
     "output_type": "stream",
     "text": [
      "1.3333333333333333\n"
     ]
    }
   ],
   "source": [
    "b= waktu_tempuh(80,60)\n",
    "print(b)"
   ]
  },
  {
   "cell_type": "code",
   "execution_count": 11,
   "id": "a494011a",
   "metadata": {},
   "outputs": [],
   "source": [
    "def balok(panjang,lebar,tinggi):\n",
    "    volume= panjang*lebar*tinggi\n",
    "    luas_permukaan= 2*(panjang*lebar+panjang*tinggi+lebar*tinggi)\n",
    "    print(f\"Volume balok adalah {luas}\")\n",
    "    print(f\"Luas Permukaan Persegi Panjang adalah {keliling}\")"
   ]
  },
  {
   "cell_type": "code",
   "execution_count": 12,
   "id": "d1fa2eda",
   "metadata": {},
   "outputs": [
    {
     "name": "stdout",
     "output_type": "stream",
     "text": [
      "Luas Persegi Panjang adalah 80\n",
      "Keliling Persegi Panjang adalah 36\n"
     ]
    }
   ],
   "source": [
    "persegi_panjang(10,8)"
   ]
  },
  {
   "cell_type": "markdown",
   "id": "5e9612c1",
   "metadata": {},
   "source": [
    "### Latjhan\n",
    "#### Buatlah program yang menggunakan fungsi Python untuk menghitung luas segitiga, lingkaran, persegi dan persegi panjang. Selain itu berikan peringatan bagi bidang lain yang tidak termasuk perhitungan."
   ]
  },
  {
   "cell_type": "code",
   "execution_count": 1,
   "id": "7c0b7023",
   "metadata": {},
   "outputs": [],
   "source": [
    "def segitiga(alas,tinggi):\n",
    "    luas = alas*tinggi/2\n",
    "    print(f\"Luas Segitiga adalah {luas}\")"
   ]
  },
  {
   "cell_type": "code",
   "execution_count": 2,
   "id": "f833537e",
   "metadata": {},
   "outputs": [],
   "source": [
    "# karena kita akan menghitung luas lingkaran, dan untuk menghitungnya kita akan memerlukan \"pi\" yang terdapat dalam library numpy\n",
    "\n",
    "def lingkaran(jari_jari):\n",
    "    luas= numpy.pi * (jari_jari**2)\n",
    "    print(f\"Luas Lingkaraan adalah {luas}\")"
   ]
  },
  {
   "cell_type": "code",
   "execution_count": 3,
   "id": "7e1b0373",
   "metadata": {},
   "outputs": [],
   "source": [
    "def persegi(sisi):\n",
    "    luas= sisi**2\n",
    "    print(f\"Luas persegi adalah {luas}\")"
   ]
  },
  {
   "cell_type": "code",
   "execution_count": 4,
   "id": "77351b20",
   "metadata": {},
   "outputs": [],
   "source": [
    "def persegi_panjang(panjang,lebar):\n",
    "    luas= panjang*lebar\n",
    "    print(f\"Luas persegi panjang adalah {luas}\")"
   ]
  },
  {
   "cell_type": "code",
   "execution_count": 5,
   "id": "87b24999",
   "metadata": {},
   "outputs": [],
   "source": [
    "def belah_ketupat(diagonal):\n",
    "    luas= (diagonal**2)/2\n",
    "    print(f\"Luas belah ketupat adalah {luas}\")"
   ]
  },
  {
   "cell_type": "code",
   "execution_count": 6,
   "id": "ee8d6fdf",
   "metadata": {},
   "outputs": [],
   "source": [
    "def layang_layang(diagonal1,diagonal2):\n",
    "    luas= diagonal1*diagonal2/2\n",
    "    print(f\"Luas layang-layang adalah {luas}\")"
   ]
  },
  {
   "cell_type": "code",
   "execution_count": 7,
   "id": "60a3c1fe",
   "metadata": {},
   "outputs": [],
   "source": [
    "def trapesium(sisi_atas,sisi_bawah,tinggi):\n",
    "    luas= tinggi*(sisi_atas+sisi_bawah)/2\n",
    "    print(f\"Luas trapesium adalah {luas}\")"
   ]
  },
  {
   "cell_type": "code",
   "execution_count": 13,
   "id": "0228ecc8",
   "metadata": {},
   "outputs": [
    {
     "name": "stdout",
     "output_type": "stream",
     "text": [
      "Masukkan jenis bidang 2 dimensi! trapesium\n",
      "Berapakah panjang sisi atasnya? 8\n",
      "Berapakah panjang sisi bawahnya12\n",
      "Berapakah tingginya5\n",
      "Luas trapesium adalah 50.0\n",
      "TERIMA KASIH\n"
     ]
    }
   ],
   "source": [
    "jenis_bidang = input(\"Masukkan jenis bidang 2 dimensi! \")\n",
    "\n",
    "if jenis_bidang.lower() == \"segitiga\":\n",
    "    alas= float(input(\"Berapakah panjang alasnya? \"))\n",
    "    tinggi= float(input(\"Berapakah tingginya\"))\n",
    "    luas= segitiga(alas,tinggi)\n",
    "    \n",
    "elif jenis_bidang.lower() == \"lingkaran\":\n",
    "    jari_jari= float(input(\"Berapakah panjang jari-jarinya? \"))\n",
    "    luas= lingkaran(jari_jari)\n",
    "    \n",
    "elif jenis_bidang.lower() == \"persegi\":\n",
    "    sisi= float(input(\"Berapakah panjang sisinya? \"))\n",
    "    luas= persegi(sisi)\n",
    "    \n",
    "elif jenis_bidang.lower() == \"persegi panjang\":\n",
    "    panjang= float(input(\"Berapakah panjangnya? \"))\n",
    "    lebar= float(input(\"Berapakah lebarnya\"))\n",
    "    luas= persegi_panjang(panjang,lebar)\n",
    "    \n",
    "elif jenis_bidang.lower() == \"belah ketupat\":\n",
    "    diagonal= float(input(\"Berapakah panjang diagonalnya? \"))\n",
    "    luas= belah_ketupat(diagonal)\n",
    "    \n",
    "elif jenis_bidang.lower() == \"layang-layang\":\n",
    "    diagonal1= float(input(\"Berapakah panjang diagonal pertamanya? \"))\n",
    "    diagonal2= float(input(\"Berapakah panjang diagonal keduanya? \"))\n",
    "    luas= layang_layang(diagonal1,diagonal2)\n",
    "    \n",
    "elif jenis_bidang.lower() == \"trapesium\":\n",
    "    sisi_atas= float(input(\"Berapakah panjang sisi atasnya? \"))\n",
    "    sisi_bawah= float(input(\"Berapakah panjang sisi bawahnya\"))\n",
    "    tinggi= float(input(\"Berapakah tingginya\"))\n",
    "    luas= trapesium(sisi_atas,sisi_bawah,tinggi)\n",
    "    \n",
    "else:\n",
    "    print(f\"Maaf bidang yang anda masukkan yaitu: {jenis_bidang}, tidak ada\")\n",
    "    print(\"Pilihan yang tersedia adalah Segitiga, Lingkaran, Persegi, Persegi panjang, Belah ketupat, Layang-layang, dan trapesium\")\n",
    "\n",
    "print(\"TERIMA KASIH\")"
   ]
  }
 ],
 "metadata": {
  "kernelspec": {
   "display_name": "Python 3 (ipykernel)",
   "language": "python",
   "name": "python3"
  },
  "language_info": {
   "codemirror_mode": {
    "name": "ipython",
    "version": 3
   },
   "file_extension": ".py",
   "mimetype": "text/x-python",
   "name": "python",
   "nbconvert_exporter": "python",
   "pygments_lexer": "ipython3",
   "version": "3.9.7"
  }
 },
 "nbformat": 4,
 "nbformat_minor": 5
}
